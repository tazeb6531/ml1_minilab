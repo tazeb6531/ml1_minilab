{
 "cells": [
  {
   "cell_type": "code",
   "execution_count": 1,
   "metadata": {},
   "outputs": [],
   "source": [
    "import numpy as np\n",
    "import pandas as pd"
   ]
  },
  {
   "cell_type": "code",
   "execution_count": 17,
   "metadata": {},
   "outputs": [
    {
     "name": "stdout",
     "output_type": "stream",
     "text": [
      "<class 'pandas.core.frame.DataFrame'>\n",
      "RangeIndex: 48895 entries, 0 to 48894\n",
      "Data columns (total 16 columns):\n",
      "id                                48895 non-null int64\n",
      "name                              48879 non-null object\n",
      "host_id                           48895 non-null int64\n",
      "host_name                         48874 non-null object\n",
      "neighbourhood_group               48895 non-null object\n",
      "neighbourhood                     48895 non-null object\n",
      "latitude                          48895 non-null float64\n",
      "longitude                         48895 non-null float64\n",
      "room_type                         48895 non-null object\n",
      "price                             48895 non-null int64\n",
      "minimum_nights                    48895 non-null int64\n",
      "number_of_reviews                 48895 non-null int64\n",
      "last_review                       38843 non-null object\n",
      "reviews_per_month                 38843 non-null float64\n",
      "calculated_host_listings_count    48895 non-null int64\n",
      "availability_365                  48895 non-null int64\n",
      "dtypes: float64(3), int64(7), object(6)\n",
      "memory usage: 6.0+ MB\n"
     ]
    }
   ],
   "source": [
    "abnb = pd.read_csv('AB_NYC_2019.csv')\n",
    "abnb.info()"
   ]
  },
  {
   "cell_type": "code",
   "execution_count": null,
   "metadata": {},
   "outputs": [],
   "source": [
    "print(abnb.shape)\n",
    "idx = abnb[abnb['room_type'] == 'Shared room'].index\n",
    "abnb.drop(idx , inplace=True)\n",
    "print(abnb.shape)"
   ]
  },
  {
   "cell_type": "code",
   "execution_count": 29,
   "metadata": {},
   "outputs": [
    {
     "name": "stdout",
     "output_type": "stream",
     "text": [
      "<class 'pandas.core.frame.DataFrame'>\n",
      "Int64Index: 47735 entries, 0 to 48894\n",
      "Data columns (total 28 columns):\n",
      "id                                47735 non-null int64\n",
      "name                              47720 non-null object\n",
      "host_id                           47735 non-null int64\n",
      "host_name                         47714 non-null object\n",
      "neighbourhood_group               47735 non-null object\n",
      "neighbourhood                     47735 non-null object\n",
      "latitude                          47735 non-null float64\n",
      "longitude                         47735 non-null float64\n",
      "room_type                         47735 non-null object\n",
      "price                             47735 non-null int64\n",
      "minimum_nights                    47735 non-null int64\n",
      "number_of_reviews                 47735 non-null int64\n",
      "last_review                       37997 non-null object\n",
      "reviews_per_month                 37997 non-null float64\n",
      "calculated_host_listings_count    47735 non-null int64\n",
      "availability_365                  47735 non-null int64\n",
      "neigh_group_Bronx                 47735 non-null uint8\n",
      "neigh_group_Brooklyn              47735 non-null uint8\n",
      "neigh_group_Manhattan             47735 non-null uint8\n",
      "neigh_group_Queens                47735 non-null uint8\n",
      "neigh_group_Staten Island         47735 non-null uint8\n",
      "neigh_group_Bronx                 47735 non-null uint8\n",
      "neigh_group_Brooklyn              47735 non-null uint8\n",
      "neigh_group_Manhattan             47735 non-null uint8\n",
      "neigh_group_Queens                47735 non-null uint8\n",
      "neigh_group_Staten Island         47735 non-null uint8\n",
      "room_type_Entire home/apt         47735 non-null uint8\n",
      "room_type_Private room            47735 non-null uint8\n",
      "dtypes: float64(3), int64(7), object(6), uint8(12)\n",
      "memory usage: 6.7+ MB\n"
     ]
    }
   ],
   "source": [
    "ngdummy = pd.get_dummies(abnb.neighbourhood_group,prefix='neigh_group')\n",
    "abnb = pd.concat((abnb,ngdummy),axis=1)\n",
    "\n",
    "roomdummy = pd.get_dummies(abnb.room_type,prefix='room_type')\n",
    "abnb = pd.concat((abnb,roomdummy),axis=1)\n",
    "abnb.info()"
   ]
  },
  {
   "cell_type": "code",
   "execution_count": 24,
   "metadata": {},
   "outputs": [
    {
     "name": "stdout",
     "output_type": "stream",
     "text": [
      "(48895, 21)\n",
      "(47735, 21)\n"
     ]
    }
   ],
   "source": [
    "print(abnb.shape)\n",
    "idx = abnb[abnb['room_type'] == 'Shared room'].index\n",
    "abnb.drop(idx , inplace=True)\n",
    "print(abnb.shape)"
   ]
  },
  {
   "cell_type": "code",
   "execution_count": 28,
   "metadata": {},
   "outputs": [
    {
     "data": {
      "text/plain": [
       "Entire home/apt    25409\n",
       "Private room       22326\n",
       "Name: room_type, dtype: int64"
      ]
     },
     "execution_count": 28,
     "metadata": {},
     "output_type": "execute_result"
    }
   ],
   "source": [
    "abnb.room_type.value_counts()"
   ]
  },
  {
   "cell_type": "code",
   "execution_count": 25,
   "metadata": {},
   "outputs": [
    {
     "name": "stdout",
     "output_type": "stream",
     "text": [
      "X_train shape:  (38188, 11)\n",
      "X_test shape:  (9547, 11)\n",
      "y_train shape:  (38188, 1)\n",
      "y_test shape:  (9547, 1)\n"
     ]
    }
   ],
   "source": [
    "\n",
    "from sklearn.model_selection import train_test_split\n",
    "\n",
    "X = abnb[[  'latitude',\n",
    "            'longitude',\n",
    "            'price',\n",
    "            'minimum_nights',\n",
    "            'number_of_reviews',\n",
    "            'calculated_host_listings_count',\n",
    "            'availability_365',\n",
    "            'neigh_group_Bronx',\n",
    "            'neigh_group_Brooklyn',\n",
    "            'neigh_group_Queens',\n",
    "            'neigh_group_Staten Island']]\n",
    "\n",
    "y = abnb[['room_type']]\n",
    "\n",
    "X_train, X_test, y_train, y_test = train_test_split(X, y, test_size=0.2, random_state=314159)\n",
    "\n",
    "print(\"X_train shape: \", X_train.shape)\n",
    "print(\"X_test shape: \", X_test.shape)\n",
    "print(\"y_train shape: \", y_train.shape)\n",
    "print(\"y_test shape: \", y_test.shape)"
   ]
  },
  {
   "cell_type": "code",
   "execution_count": 26,
   "metadata": {},
   "outputs": [
    {
     "name": "stderr",
     "output_type": "stream",
     "text": [
      "D:\\Users\\William\\Anaconda3\\lib\\site-packages\\sklearn\\utils\\validation.py:761: DataConversionWarning: A column-vector y was passed when a 1d array was expected. Please change the shape of y to (n_samples, ), for example using ravel().\n",
      "  y = column_or_1d(y, warn=True)\n"
     ]
    },
    {
     "name": "stdout",
     "output_type": "stream",
     "text": [
      "accuracy 0.8122970566670158\n",
      "confusion matrix\n",
      " [[3885 1164]\n",
      " [ 628 3870]]\n"
     ]
    }
   ],
   "source": [
    "# Code Adapted From: https://github.com/jakemdrew/DataMiningNotebooks/blob/master/04.%20Logits%20and%20SVM.ipynb\n",
    "from sklearn.linear_model import LogisticRegression\n",
    "from sklearn import metrics as mt\n",
    "\n",
    "# Setup Logistic Regression Classifier\n",
    "lr_clf = LogisticRegression(penalty='l2', C=1.0, class_weight=None, solver='liblinear' )\n",
    "\n",
    "# Train the model \n",
    "lr_clf.fit(X_train,y_train)  \n",
    "\n",
    "# Make predictions on test data\n",
    "y_hat = lr_clf.predict(X_test) \n",
    "\n",
    "# Measure Accuracy\n",
    "acc = mt.accuracy_score(y_test,y_hat)\n",
    "conf = mt.confusion_matrix(y_test,y_hat)\n",
    "print(\"accuracy\", acc )\n",
    "print(\"confusion matrix\\n\",conf)"
   ]
  }
 ],
 "metadata": {
  "kernelspec": {
   "display_name": "Python 3",
   "language": "python",
   "name": "python3"
  },
  "language_info": {
   "codemirror_mode": {
    "name": "ipython",
    "version": 3
   },
   "file_extension": ".py",
   "mimetype": "text/x-python",
   "name": "python",
   "nbconvert_exporter": "python",
   "pygments_lexer": "ipython3",
   "version": "3.7.1"
  }
 },
 "nbformat": 4,
 "nbformat_minor": 2
}

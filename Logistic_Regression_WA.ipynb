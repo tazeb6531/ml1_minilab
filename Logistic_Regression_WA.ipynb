{
 "cells": [
  {
   "cell_type": "code",
   "execution_count": 1,
   "metadata": {},
   "outputs": [],
   "source": [
    "import numpy as np\n",
    "import pandas as pd"
   ]
  },
  {
   "cell_type": "markdown",
   "metadata": {},
   "source": [
    "# Data Import"
   ]
  },
  {
   "cell_type": "code",
   "execution_count": 2,
   "metadata": {
    "scrolled": true
   },
   "outputs": [
    {
     "name": "stdout",
     "output_type": "stream",
     "text": [
      "<class 'pandas.core.frame.DataFrame'>\n",
      "RangeIndex: 48895 entries, 0 to 48894\n",
      "Data columns (total 17 columns):\n",
      "id                                48895 non-null int64\n",
      "name                              48879 non-null object\n",
      "host_id                           48895 non-null int64\n",
      "host_name                         48874 non-null object\n",
      "neighbourhood_group               48895 non-null object\n",
      "neighbourhood                     48895 non-null object\n",
      "latitude                          48895 non-null float64\n",
      "longitude                         48895 non-null float64\n",
      "room_type                         48895 non-null object\n",
      "price                             48895 non-null int64\n",
      "minimum_nights                    48895 non-null int64\n",
      "number_of_reviews                 48895 non-null int64\n",
      "last_review                       38843 non-null object\n",
      "reviews_per_month                 38843 non-null float64\n",
      "calculated_host_listings_count    48895 non-null int64\n",
      "availability_365                  48895 non-null int64\n",
      "dist_subway                       48895 non-null float64\n",
      "dtypes: float64(4), int64(7), object(6)\n",
      "memory usage: 6.3+ MB\n"
     ]
    }
   ],
   "source": [
    "abnb = pd.read_csv('AB_NYC_2019.csv')\n",
    "abnbv3 = pd.read_csv('ABNB_NY_V3.csv')\n",
    "abnb = pd.concat((abnb,abnbv3['dist_subway']),axis=1)\n",
    "abnb.info()"
   ]
  },
  {
   "cell_type": "markdown",
   "metadata": {},
   "source": [
    "# Drop Shared Rooms"
   ]
  },
  {
   "cell_type": "code",
   "execution_count": 3,
   "metadata": {},
   "outputs": [
    {
     "name": "stdout",
     "output_type": "stream",
     "text": [
      "(48895, 17)\n",
      "(47735, 17)\n"
     ]
    }
   ],
   "source": [
    "print(abnb.shape)\n",
    "idx = abnb[abnb['room_type'] == 'Shared room'].index\n",
    "abnb.drop(idx , inplace=True)\n",
    "print(abnb.shape)"
   ]
  },
  {
   "cell_type": "markdown",
   "metadata": {},
   "source": [
    "Dropping shared rooms from the data because they are a minority class, we want to focus on the major classes."
   ]
  },
  {
   "cell_type": "markdown",
   "metadata": {},
   "source": [
    "# Make Dummies for Neighborhood Group and Room Type"
   ]
  },
  {
   "cell_type": "code",
   "execution_count": 4,
   "metadata": {},
   "outputs": [
    {
     "name": "stdout",
     "output_type": "stream",
     "text": [
      "<class 'pandas.core.frame.DataFrame'>\n",
      "Int64Index: 47735 entries, 0 to 48894\n",
      "Data columns (total 24 columns):\n",
      "id                                47735 non-null int64\n",
      "name                              47720 non-null object\n",
      "host_id                           47735 non-null int64\n",
      "host_name                         47714 non-null object\n",
      "neighbourhood_group               47735 non-null object\n",
      "neighbourhood                     47735 non-null object\n",
      "latitude                          47735 non-null float64\n",
      "longitude                         47735 non-null float64\n",
      "room_type                         47735 non-null object\n",
      "price                             47735 non-null int64\n",
      "minimum_nights                    47735 non-null int64\n",
      "number_of_reviews                 47735 non-null int64\n",
      "last_review                       37997 non-null object\n",
      "reviews_per_month                 37997 non-null float64\n",
      "calculated_host_listings_count    47735 non-null int64\n",
      "availability_365                  47735 non-null int64\n",
      "dist_subway                       47735 non-null float64\n",
      "neigh_group_Bronx                 47735 non-null uint8\n",
      "neigh_group_Brooklyn              47735 non-null uint8\n",
      "neigh_group_Manhattan             47735 non-null uint8\n",
      "neigh_group_Queens                47735 non-null uint8\n",
      "neigh_group_Staten Island         47735 non-null uint8\n",
      "room_type_Entire home/apt         47735 non-null uint8\n",
      "room_type_Private room            47735 non-null uint8\n",
      "dtypes: float64(4), int64(7), object(6), uint8(7)\n",
      "memory usage: 6.9+ MB\n"
     ]
    }
   ],
   "source": [
    "ngdummy = pd.get_dummies(abnb.neighbourhood_group,prefix='neigh_group')\n",
    "abnb = pd.concat((abnb,ngdummy),axis=1)\n",
    "\n",
    "roomdummy = pd.get_dummies(abnb.room_type,prefix='room_type')\n",
    "abnb = pd.concat((abnb,roomdummy),axis=1)\n",
    "abnb.info()"
   ]
  },
  {
   "cell_type": "markdown",
   "metadata": {},
   "source": [
    "# Checking room type counts"
   ]
  },
  {
   "cell_type": "code",
   "execution_count": 5,
   "metadata": {},
   "outputs": [
    {
     "data": {
      "text/plain": [
       "Entire home/apt    25409\n",
       "Private room       22326\n",
       "Name: room_type, dtype: int64"
      ]
     },
     "execution_count": 5,
     "metadata": {},
     "output_type": "execute_result"
    }
   ],
   "source": [
    "abnb.room_type.value_counts()"
   ]
  },
  {
   "cell_type": "markdown",
   "metadata": {},
   "source": [
    "# Train Test Split"
   ]
  },
  {
   "cell_type": "code",
   "execution_count": 6,
   "metadata": {},
   "outputs": [
    {
     "name": "stdout",
     "output_type": "stream",
     "text": [
      "X_train shape:  (38188, 12)\n",
      "X_test shape:  (9547, 12)\n",
      "y_train shape:  (38188,)\n",
      "y_test shape:  (9547, 1)\n"
     ]
    }
   ],
   "source": [
    "\n",
    "from sklearn.model_selection import train_test_split\n",
    "\n",
    "X = abnb[[  'latitude',\n",
    "            'longitude',\n",
    "            'price',\n",
    "            'dist_subway',\n",
    "            'minimum_nights',\n",
    "            'number_of_reviews',\n",
    "            'calculated_host_listings_count',\n",
    "            'availability_365',\n",
    "            'neigh_group_Bronx',\n",
    "            'neigh_group_Brooklyn',\n",
    "            'neigh_group_Queens',\n",
    "            'neigh_group_Staten Island']]\n",
    "\n",
    "y = abnb[['room_type']]\n",
    "\n",
    "X_train, X_test, y_train, y_test = train_test_split(X, y, test_size=0.2, random_state=314159)\n",
    "y_train = y_train.values.ravel()\n",
    "print(\"X_train shape: \", X_train.shape)\n",
    "print(\"X_test shape: \", X_test.shape)\n",
    "print(\"y_train shape: \", y_train.shape)\n",
    "print(\"y_test shape: \", y_test.shape)"
   ]
  },
  {
   "cell_type": "markdown",
   "metadata": {},
   "source": [
    "# Logistic Regression"
   ]
  },
  {
   "cell_type": "code",
   "execution_count": 7,
   "metadata": {},
   "outputs": [
    {
     "name": "stdout",
     "output_type": "stream",
     "text": [
      "accuracy 0.813239761181523\n",
      "confusion matrix\n",
      " [[3890 1159]\n",
      " [ 624 3874]]\n"
     ]
    }
   ],
   "source": [
    "# Code Adapted From: https://github.com/jakemdrew/DataMiningNotebooks/blob/master/04.%20Logits%20and%20SVM.ipynb\n",
    "from sklearn.linear_model import LogisticRegression\n",
    "from sklearn import metrics as mt\n",
    "\n",
    "# Setup Logistic Regression Classifier\n",
    "lr_clf = LogisticRegression(penalty='l2', C=1.0, class_weight=None, solver='liblinear' )\n",
    "\n",
    "# Train the model \n",
    "lr_clf.fit(X_train,y_train)  \n",
    "\n",
    "# Make predictions on test data\n",
    "y_hat = lr_clf.predict(X_test) \n",
    "\n",
    "# Measure Accuracy\n",
    "acc = mt.accuracy_score(y_test,y_hat)\n",
    "conf = mt.confusion_matrix(y_test,y_hat)\n",
    "print(\"accuracy\", acc )\n",
    "print(\"confusion matrix\\n\",conf)"
   ]
  },
  {
   "cell_type": "markdown",
   "metadata": {},
   "source": [
    "# Log Reg Weights"
   ]
  },
  {
   "cell_type": "code",
   "execution_count": 8,
   "metadata": {},
   "outputs": [
    {
     "name": "stdout",
     "output_type": "stream",
     "text": [
      "latitude has weight of 1.9976915433223634\n",
      "longitude has weight of 1.07004282146264\n",
      "price has weight of -0.018314722159266127\n",
      "dist_subway has weight of -0.13276741386955246\n",
      "minimum_nights has weight of -0.020625170231605084\n",
      "number_of_reviews has weight of -0.002723287899270921\n",
      "calculated_host_listings_count has weight of -0.007219554440270909\n",
      "availability_365 has weight of 0.002111944123650888\n",
      "neigh_group_Bronx has weight of -0.5904142120935824\n",
      "neigh_group_Brooklyn has weight of -0.05295587013503004\n",
      "neigh_group_Queens has weight of -0.12067401753934201\n",
      "neigh_group_Staten Island has weight of -0.09841906910976699\n"
     ]
    }
   ],
   "source": [
    "# Code Adapted From: https://github.com/jakemdrew/DataMiningNotebooks/blob/master/04.%20Logits%20and%20SVM.ipynb\n",
    "weights = lr_clf.coef_.T # take transpose to make a column vector\n",
    "variable_names = X_train.columns\n",
    "for coef, name in zip(weights,variable_names):\n",
    "    print(name, 'has weight of', coef[0])"
   ]
  },
  {
   "cell_type": "markdown",
   "metadata": {},
   "source": [
    "# Scaling Variables for Feature Importance\n",
    "Should I be scaling dummies?"
   ]
  },
  {
   "cell_type": "code",
   "execution_count": 9,
   "metadata": {
    "scrolled": true
   },
   "outputs": [
    {
     "name": "stderr",
     "output_type": "stream",
     "text": [
      "D:\\Users\\William\\Anaconda3\\lib\\site-packages\\sklearn\\preprocessing\\data.py:625: DataConversionWarning: Data with input dtype uint8, int64, float64 were all converted to float64 by StandardScaler.\n",
      "  return self.partial_fit(X, y)\n",
      "D:\\Users\\William\\Anaconda3\\lib\\site-packages\\ipykernel_launcher.py:15: DataConversionWarning: Data with input dtype uint8, int64, float64 were all converted to float64 by StandardScaler.\n",
      "  from ipykernel import kernelapp as app\n",
      "D:\\Users\\William\\Anaconda3\\lib\\site-packages\\ipykernel_launcher.py:16: DataConversionWarning: Data with input dtype uint8, int64, float64 were all converted to float64 by StandardScaler.\n",
      "  app.launch_new_instance()\n"
     ]
    },
    {
     "name": "stdout",
     "output_type": "stream",
     "text": [
      "accuracy: 0.8108306274222269\n",
      "[[3869 1180]\n",
      " [ 626 3872]]\n",
      "price has weight of -4.249849232718081\n",
      "minimum_nights has weight of -0.3942661691583071\n",
      "calculated_host_listings_count has weight of -0.2397233951335336\n",
      "number_of_reviews has weight of -0.11823438455511193\n",
      "neigh_group_Bronx has weight of -0.08338786872445268\n",
      "dist_subway has weight of -0.030079532834932445\n",
      "neigh_group_Staten Island has weight of -0.005667503921976151\n",
      "neigh_group_Queens has weight of -0.005507169455763638\n",
      "longitude has weight of 0.03138149736635156\n",
      "neigh_group_Brooklyn has weight of 0.036021302801874835\n",
      "latitude has weight of 0.16457907793950807\n",
      "availability_365 has weight of 0.2672604962715976\n"
     ]
    }
   ],
   "source": [
    "# Code Adapted From: https://github.com/jakemdrew/DataMiningNotebooks/blob/master/04.%20Logits%20and%20SVM.ipynb\n",
    "from sklearn.preprocessing import StandardScaler\n",
    "\n",
    "# we want to normalize the features based upon the mean and standard deviation of each column. \n",
    "# However, we do not want to accidentally use the testing data to find out the mean and std (this would be snooping)\n",
    "# to Make things easier, let's start by just using whatever was last stored in the variables:\n",
    "##    X_train , y_train , X_test, y_test (they were set in a for loop above)\n",
    "\n",
    "# scale attributes by the training set\n",
    "scl_obj = StandardScaler()\n",
    "scl_obj.fit(X_train) # find scalings for each column that make this zero mean and unit std\n",
    "# the line of code above only looks at training data to get mean and std and we can use it \n",
    "# to transform new feature data\n",
    "\n",
    "X_train_scaled = scl_obj.transform(X_train) # apply to training\n",
    "X_test_scaled = scl_obj.transform(X_test) # apply those means and std to the test set (without snooping at the test set values)\n",
    "\n",
    "# train the model just as before\n",
    "lr_clf = LogisticRegression(penalty='l2', C=0.05, solver='liblinear') # get object, the 'C' value is less (can you guess why??)\n",
    "lr_clf.fit(X_train_scaled,y_train)  # train object\n",
    "\n",
    "y_hat = lr_clf.predict(X_test_scaled) # get test set precitions\n",
    "\n",
    "acc = mt.accuracy_score(y_test,y_hat)\n",
    "conf = mt.confusion_matrix(y_test,y_hat)\n",
    "print('accuracy:', acc )\n",
    "print(conf )\n",
    "\n",
    "# sort these attributes and spit them out\n",
    "zip_vars = zip(lr_clf.coef_.T,X_train.columns) # combine attributes\n",
    "zip_vars = sorted(zip_vars)\n",
    "for coef, name in zip_vars:\n",
    "    print(name, 'has weight of', coef[0]) # now print them out"
   ]
  },
  {
   "cell_type": "markdown",
   "metadata": {},
   "source": [
    "# Graph of feature importance"
   ]
  },
  {
   "cell_type": "code",
   "execution_count": 10,
   "metadata": {
    "scrolled": true
   },
   "outputs": [
    {
     "data": {
      "image/png": "[encoded data removed]",
      "text/plain": [
       "<Figure size 432x288 with 1 Axes>"
      ]
     },
     "metadata": {},
     "output_type": "display_data"
    }
   ],
   "source": [
    "# Code Adapted From: https://github.com/jakemdrew/DataMiningNotebooks/blob/master/04.%20Logits%20and%20SVM.ipynb\n",
    "# now let's make a pandas Series with the names and values, and plot them\n",
    "from matplotlib import pyplot as plt\n",
    "%matplotlib inline\n",
    "plt.style.use('ggplot')\n",
    "\n",
    "\n",
    "weights = pd.Series(lr_clf.coef_[0],index=X_train.columns)\n",
    "weights.plot(kind='bar')\n",
    "plt.show()"
   ]
  },
  {
   "cell_type": "markdown",
   "metadata": {},
   "source": [
    "# SVC Model"
   ]
  },
  {
   "cell_type": "code",
   "execution_count": 11,
   "metadata": {},
   "outputs": [
    {
     "name": "stdout",
     "output_type": "stream",
     "text": [
      "accuracy: 0.8429873258615271\n",
      "[[4175  874]\n",
      " [ 625 3873]]\n"
     ]
    }
   ],
   "source": [
    "# Code Adapted From: https://github.com/jakemdrew/DataMiningNotebooks/blob/master/04.%20Logits%20and%20SVM.ipynb\n",
    "from sklearn.svm import SVC\n",
    "\n",
    "# train the model just as before\n",
    "svm_clf = SVC(C=0.5, kernel='rbf', degree=3, gamma='auto') # get object\n",
    "svm_clf.fit(X_train_scaled, y_train)  # train object\n",
    "\n",
    "y_hat = svm_clf.predict(X_test_scaled) # get test set precitions\n",
    "\n",
    "acc = mt.accuracy_score(y_test,y_hat)\n",
    "conf = mt.confusion_matrix(y_test,y_hat)\n",
    "print('accuracy:', acc )\n",
    "print(conf)"
   ]
  },
  {
   "cell_type": "markdown",
   "metadata": {},
   "source": [
    "# Support Vectors"
   ]
  },
  {
   "cell_type": "code",
   "execution_count": 12,
   "metadata": {},
   "outputs": [
    {
     "name": "stdout",
     "output_type": "stream",
     "text": [
      "(17861, 12)\n",
      "(17861,)\n",
      "[8926 8935]\n"
     ]
    }
   ],
   "source": [
    "# Code Adapted From: https://github.com/jakemdrew/DataMiningNotebooks/blob/master/04.%20Logits%20and%20SVM.ipynb\n",
    "# look at the support vectors\n",
    "print(svm_clf.support_vectors_.shape)\n",
    "print(svm_clf.support_.shape)\n",
    "print(svm_clf.n_support_ )"
   ]
  },
  {
   "cell_type": "code",
   "execution_count": null,
   "metadata": {},
   "outputs": [],
   "source": []
  },
  {
   "cell_type": "code",
   "execution_count": null,
   "metadata": {},
   "outputs": [],
   "source": []
  }
 ],
 "metadata": {
  "kernelspec": {
   "display_name": "Python 3",
   "language": "python",
   "name": "python3"
  },
  "language_info": {
   "codemirror_mode": {
    "name": "ipython",
    "version": 3
   },
   "file_extension": ".py",
   "mimetype": "text/x-python",
   "name": "python",
   "nbconvert_exporter": "python",
   "pygments_lexer": "ipython3",
   "version": "3.7.1"
  }
 },
 "nbformat": 4,
 "nbformat_minor": 2
}
